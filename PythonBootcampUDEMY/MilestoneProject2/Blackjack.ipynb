{
 "cells": [
  {
   "cell_type": "code",
   "execution_count": 1,
   "metadata": {},
   "outputs": [],
   "source": [
    "import random\n",
    "\n",
    "suits = ('Hearts', 'Diamonds', 'Spades', 'Clubs')\n",
    "ranks = ('Two', 'Three', 'Four', 'Five', 'Six', 'Seven', 'Eight', 'Nine', 'Ten', 'Jack', 'Queen', 'King', 'Ace')\n",
    "values = {'Two':2, 'Three':3, 'Four':4, 'Five':5, 'Six':6, 'Seven':7, 'Eight':8, 'Nine':9, 'Ten':10, 'Jack':10,\n",
    "         'Queen':10, 'King':10, 'Ace':11}\n",
    "\n",
    "playing = True"
   ]
  },
  {
   "cell_type": "code",
   "execution_count": 2,
   "metadata": {},
   "outputs": [],
   "source": [
    "class Card:\n",
    "    \n",
    "    def __init__(self, suit, rank):\n",
    "        self.suit = suit\n",
    "        self.rank = rank\n",
    "        \n",
    "    def __str__(self):\n",
    "        return f\"{self.rank} of {self.suit}\""
   ]
  },
  {
   "cell_type": "code",
   "execution_count": 3,
   "metadata": {},
   "outputs": [],
   "source": [
    "class Deck:\n",
    "    \n",
    "    def __init__(self):\n",
    "        self.deck = []\n",
    "        for suit in suits:\n",
    "            for rank in ranks:\n",
    "                card = Card(suit, rank)\n",
    "                self.deck.append(card)\n",
    "\n",
    "    def __str__(self):\n",
    "        # for debugging purposes\n",
    "        for card in self.deck:\n",
    "            print(card)\n",
    "        \n",
    "    \n",
    "    def shuffle(self):\n",
    "        random.shuffle(self.deck)\n",
    "    \n",
    "    def deal(self):\n",
    "        card_to_return = self.deck.pop()\n",
    "        return card_to_return"
   ]
  },
  {
   "cell_type": "code",
   "execution_count": 4,
   "metadata": {},
   "outputs": [],
   "source": [
    "class Hand:\n",
    "    \n",
    "    def __init__(self):\n",
    "        self.cards = []\n",
    "        self.value = 0\n",
    "        self.aces = 0\n",
    "        \n",
    "    def add_card(self, card):\n",
    "        self.cards.append(card)\n",
    "        self.value += values[card.rank]\n",
    "        if card.rank == 'Ace':\n",
    "            self.aces += 1\n",
    "            \n",
    "    def adjust_for_ace(self):\n",
    "        while self.value > 21 & self.aces:\n",
    "            self.value -= 10\n",
    "            self.aces -= 1"
   ]
  },
  {
   "cell_type": "code",
   "execution_count": null,
   "metadata": {},
   "outputs": [],
   "source": [
    "class Chips:\n",
    "    \n",
    "    def __init__(self):\n",
    "        self.total = 100\n",
    "        self.bet = 0\n",
    "        \n",
    "    def win_bet(self):\n",
    "        self.total += 2 * self.bet\n",
    "    \n",
    "    def lose_bet(self):\n",
    "        self.total -= 2 * self.bet"
   ]
  },
  {
   "cell_type": "code",
   "execution_count": null,
   "metadata": {},
   "outputs": [],
   "source": [
    "def take_bet(chips):\n",
    "    while True:\n",
    "        try:\n",
    "            intput_bet = int(input('How much do you want to bet? '))\n",
    "        except:\n",
    "            print('Please enter a valid number! ')\n",
    "        else:\n",
    "            if intput_bet > hand.value:\n",
    "                print('You don\\'t have enough money! ')\n",
    "        finally:\n",
    "            print('Thank you! ')\n",
    "            break\n",
    "    chips.bet = intput_bet"
   ]
  },
  {
   "cell_type": "code",
   "execution_count": null,
   "metadata": {},
   "outputs": [],
   "source": [
    "def hit(deck, hand):\n",
    "    hand.add_card(deck.deal)\n",
    "    hand.adjust_for_aces()"
   ]
  },
  {
   "cell_type": "code",
   "execution_count": null,
   "metadata": {},
   "outputs": [],
   "source": [
    "def hit_or_stand(deck, hand):\n",
    "    global playing\n",
    "    while True:\n",
    "        try:\n",
    "            action = str(input('Hit or Stand? '))\n",
    "        except:\n",
    "            print('Please choose a valid action! ')\n",
    "        else:\n",
    "            if action != 'stand' | action != 'hit':\n",
    "                print('Please choose one of \\'Hit\\' or \\'Stand\\'! ')\n",
    "        finally:\n",
    "            print('Thank you! ')\n",
    "            break"
   ]
  },
  {
   "cell_type": "code",
   "execution_count": null,
   "metadata": {},
   "outputs": [],
   "source": [
    "def player_busts(chips):\n",
    "    print(\"Player bust! \")\n",
    "    chips.lose_bet()\n",
    "\n",
    "def player_wins(chips):\n",
    "    print(\"Player wins! \")\n",
    "    chips.win_bet()\n",
    "    \n",
    "def dealer_busts(chips):\n",
    "    print('Dealer busts! ')\n",
    "    chips.lose_bet()\n",
    "    \n",
    "def dealer_wins(chips):\n",
    "    print('Dealer wins! ')\n",
    "    chips.win_bet()\n",
    "    \n",
    "def push():\n",
    "    print('Push! ')"
   ]
  },
  {
   "cell_type": "code",
   "execution_count": null,
   "metadata": {},
   "outputs": [],
   "source": [
    "def show_some(player,dealer):\n",
    "    print(\"\\nDealer's Hand:\")\n",
    "    print(\" <card hidden>\")\n",
    "    print('',dealer.cards[1])  \n",
    "    print(\"\\nPlayer's Hand:\", *player.cards, sep='\\n ')\n",
    "    \n",
    "def show_all(player,dealer):\n",
    "    print(\"\\nDealer's Hand:\", *dealer.cards, sep='\\n ')\n",
    "    print(\"Dealer's Hand =\",dealer.value)\n",
    "    print(\"\\nPlayer's Hand:\", *player.cards, sep='\\n ')\n",
    "    print(\"Player's Hand =\",player.value)"
   ]
  },
  {
   "cell_type": "code",
   "execution_count": null,
   "metadata": {},
   "outputs": [],
   "source": [
    " while True:\n",
    "    print(\"\\n\\n~~~ WELCOME TO BLACKJACK ~~~\\n\\n\")\n",
    "    \n",
    "    deck = Deck()\n",
    "    deck.shuffle()\n",
    "    \n",
    "    player_hand = Hand()\n",
    "    player_hand.add_card(deck.deal())\n",
    "    player_hand.add_card(deck.deal())\n",
    "    \n",
    "    dealer_hand = Hand()\n",
    "    dealer_hand.add_card(deck.deal())\n",
    "    dealer_hand.add_card(deck.deal())\n",
    "    \n",
    "    chips = Chips()\n",
    "    \n",
    "    take_bet(chips)\n",
    "    \n",
    "    show_some(player_hand, dealer_hand)\n",
    "    \n",
    "    while playing:\n",
    "        hit_or_stand(deck, player_hand)\n",
    "        \n",
    "        show_some(player_hand, dealer_hand)\n",
    "        \n",
    "        if player_hand.value > 21:\n",
    "            player_busts\n",
    "            break\n",
    "        \n",
    "        while dealer_hand.value < 17:\n",
    "            hit(dealer_hand)\n",
    "            \n",
    "        show_all(player_hand, dealer_hand)\n",
    "        \n",
    "        if dealer_hand.value > 21:\n",
    "            dealer_busts()\n",
    "            break\n",
    "        if player_hand.value > dealer_hand.value:\n",
    "            player_wins(chips)\n",
    "            break\n",
    "        elif player_hand.value < dealer_hand.value:\n",
    "            dealer_wins(chips)\n",
    "            break\n",
    "        else:\n",
    "            push()\n",
    "            break\n",
    "    \n",
    "    break"
   ]
  },
  {
   "cell_type": "code",
   "execution_count": null,
   "metadata": {},
   "outputs": [],
   "source": []
  }
 ],
 "metadata": {
  "kernelspec": {
   "display_name": "Python 3",
   "language": "python",
   "name": "python3"
  },
  "language_info": {
   "codemirror_mode": {
    "name": "ipython",
    "version": 3
   },
   "file_extension": ".py",
   "mimetype": "text/x-python",
   "name": "python",
   "nbconvert_exporter": "python",
   "pygments_lexer": "ipython3",
   "version": "3.7.1"
  }
 },
 "nbformat": 4,
 "nbformat_minor": 2
}
